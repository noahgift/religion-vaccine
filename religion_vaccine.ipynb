{
  "nbformat": 4,
  "nbformat_minor": 0,
  "metadata": {
    "colab": {
      "name": "religion-vaccine.ipynb",
      "provenance": [],
      "authorship_tag": "ABX9TyN+dVbe0kI4rHuPEu4O1RkK",
      "include_colab_link": true
    },
    "kernelspec": {
      "name": "python3",
      "display_name": "Python 3"
    },
    "language_info": {
      "name": "python"
    }
  },
  "cells": [
    {
      "cell_type": "markdown",
      "metadata": {
        "id": "view-in-github",
        "colab_type": "text"
      },
      "source": [
        "<a href=\"https://colab.research.google.com/github/noahgift/religion-vaccine/blob/main/religion_vaccine.ipynb\" target=\"_parent\"><img src=\"https://colab.research.google.com/assets/colab-badge.svg\" alt=\"Open In Colab\"/></a>"
      ]
    },
    {
      "cell_type": "code",
      "metadata": {
        "id": "gpsmJcDfSxCa"
      },
      "source": [
        "import pandas as pd"
      ],
      "execution_count": 1,
      "outputs": []
    },
    {
      "cell_type": "code",
      "metadata": {
        "id": "OI_ldBvbSzvM"
      },
      "source": [
        "df = pd.read_csv(\"https://raw.githubusercontent.com/noahgift/religion-vaccine/main/religion-vaccine.csv\")"
      ],
      "execution_count": 2,
      "outputs": []
    },
    {
      "cell_type": "code",
      "metadata": {
        "colab": {
          "base_uri": "https://localhost:8080/",
          "height": 228
        },
        "id": "7UhBvLwHS4wB",
        "outputId": "40bc3c42-6f89-4a21-e911-1e053bf7c787"
      },
      "source": [
        "df.head()"
      ],
      "execution_count": 3,
      "outputs": [
        {
          "output_type": "execute_result",
          "data": {
            "text/html": [
              "<div>\n",
              "<style scoped>\n",
              "    .dataframe tbody tr th:only-of-type {\n",
              "        vertical-align: middle;\n",
              "    }\n",
              "\n",
              "    .dataframe tbody tr th {\n",
              "        vertical-align: top;\n",
              "    }\n",
              "\n",
              "    .dataframe thead th {\n",
              "        text-align: right;\n",
              "    }\n",
              "</style>\n",
              "<table border=\"1\" class=\"dataframe\">\n",
              "  <thead>\n",
              "    <tr style=\"text-align: right;\">\n",
              "      <th></th>\n",
              "      <th>State</th>\n",
              "      <th>Vaccinated</th>\n",
              "      <th>None</th>\n",
              "      <th>Sample\\nSize</th>\n",
              "      <th>Protestant</th>\n",
              "      <th>Other\\nChristian</th>\n",
              "      <th>Catholic</th>\n",
              "      <th>Mormon</th>\n",
              "      <th>Jewish</th>\n",
              "    </tr>\n",
              "  </thead>\n",
              "  <tbody>\n",
              "    <tr>\n",
              "      <th>0</th>\n",
              "      <td>Alabama</td>\n",
              "      <td>0.34</td>\n",
              "      <td>5.6</td>\n",
              "      <td>925</td>\n",
              "      <td>75.8</td>\n",
              "      <td>6.2</td>\n",
              "      <td>6.6</td>\n",
              "      <td>0.5</td>\n",
              "      <td>0.6</td>\n",
              "    </tr>\n",
              "    <tr>\n",
              "      <th>1</th>\n",
              "      <td>Arizona</td>\n",
              "      <td>0.45</td>\n",
              "      <td>11.5</td>\n",
              "      <td>1,066</td>\n",
              "      <td>43.1</td>\n",
              "      <td>7.5</td>\n",
              "      <td>25.2</td>\n",
              "      <td>5.4</td>\n",
              "      <td>1.5</td>\n",
              "    </tr>\n",
              "    <tr>\n",
              "      <th>2</th>\n",
              "      <td>Arkansas</td>\n",
              "      <td>0.35</td>\n",
              "      <td>7.9</td>\n",
              "      <td>641</td>\n",
              "      <td>70.1</td>\n",
              "      <td>9.2</td>\n",
              "      <td>7.4</td>\n",
              "      <td>1.2</td>\n",
              "      <td>0.2</td>\n",
              "    </tr>\n",
              "    <tr>\n",
              "      <th>3</th>\n",
              "      <td>California</td>\n",
              "      <td>0.52</td>\n",
              "      <td>14.4</td>\n",
              "      <td>6,710</td>\n",
              "      <td>39.3</td>\n",
              "      <td>7.3</td>\n",
              "      <td>27.0</td>\n",
              "      <td>1.8</td>\n",
              "      <td>2.7</td>\n",
              "    </tr>\n",
              "    <tr>\n",
              "      <th>4</th>\n",
              "      <td>Colorado</td>\n",
              "      <td>0.54</td>\n",
              "      <td>14.8</td>\n",
              "      <td>1,135</td>\n",
              "      <td>47.2</td>\n",
              "      <td>5.9</td>\n",
              "      <td>22.2</td>\n",
              "      <td>1.7</td>\n",
              "      <td>1.7</td>\n",
              "    </tr>\n",
              "  </tbody>\n",
              "</table>\n",
              "</div>"
            ],
            "text/plain": [
              "        State  Vaccinated  None  ... Catholic  Mormon  Jewish\n",
              "0     Alabama        0.34   5.6  ...      6.6     0.5     0.6\n",
              "1     Arizona        0.45  11.5  ...     25.2     5.4     1.5\n",
              "2    Arkansas        0.35   7.9  ...      7.4     1.2     0.2\n",
              "3  California        0.52  14.4  ...     27.0     1.8     2.7\n",
              "4    Colorado        0.54  14.8  ...     22.2     1.7     1.7\n",
              "\n",
              "[5 rows x 9 columns]"
            ]
          },
          "metadata": {
            "tags": []
          },
          "execution_count": 3
        }
      ]
    },
    {
      "cell_type": "code",
      "metadata": {
        "colab": {
          "base_uri": "https://localhost:8080/",
          "height": 291
        },
        "id": "EvsZMPIwS5Z8",
        "outputId": "90b0b862-fa8f-42fd-e72b-6f01446427d6"
      },
      "source": [
        "df.corr()"
      ],
      "execution_count": 4,
      "outputs": [
        {
          "output_type": "execute_result",
          "data": {
            "text/html": [
              "<div>\n",
              "<style scoped>\n",
              "    .dataframe tbody tr th:only-of-type {\n",
              "        vertical-align: middle;\n",
              "    }\n",
              "\n",
              "    .dataframe tbody tr th {\n",
              "        vertical-align: top;\n",
              "    }\n",
              "\n",
              "    .dataframe thead th {\n",
              "        text-align: right;\n",
              "    }\n",
              "</style>\n",
              "<table border=\"1\" class=\"dataframe\">\n",
              "  <thead>\n",
              "    <tr style=\"text-align: right;\">\n",
              "      <th></th>\n",
              "      <th>Vaccinated</th>\n",
              "      <th>None</th>\n",
              "      <th>Protestant</th>\n",
              "      <th>Other\\nChristian</th>\n",
              "      <th>Catholic</th>\n",
              "      <th>Mormon</th>\n",
              "      <th>Jewish</th>\n",
              "    </tr>\n",
              "  </thead>\n",
              "  <tbody>\n",
              "    <tr>\n",
              "      <th>Vaccinated</th>\n",
              "      <td>1.000000</td>\n",
              "      <td>0.422919</td>\n",
              "      <td>-0.601104</td>\n",
              "      <td>-0.536015</td>\n",
              "      <td>0.719701</td>\n",
              "      <td>-0.154383</td>\n",
              "      <td>0.502930</td>\n",
              "    </tr>\n",
              "    <tr>\n",
              "      <th>None</th>\n",
              "      <td>0.422919</td>\n",
              "      <td>1.000000</td>\n",
              "      <td>-0.488325</td>\n",
              "      <td>-0.052374</td>\n",
              "      <td>0.154242</td>\n",
              "      <td>0.073954</td>\n",
              "      <td>0.246451</td>\n",
              "    </tr>\n",
              "    <tr>\n",
              "      <th>Protestant</th>\n",
              "      <td>-0.601104</td>\n",
              "      <td>-0.488325</td>\n",
              "      <td>1.000000</td>\n",
              "      <td>0.483212</td>\n",
              "      <td>-0.658483</td>\n",
              "      <td>-0.448489</td>\n",
              "      <td>-0.507319</td>\n",
              "    </tr>\n",
              "    <tr>\n",
              "      <th>Other\\nChristian</th>\n",
              "      <td>-0.536015</td>\n",
              "      <td>-0.052374</td>\n",
              "      <td>0.483212</td>\n",
              "      <td>1.000000</td>\n",
              "      <td>-0.652107</td>\n",
              "      <td>-0.128055</td>\n",
              "      <td>-0.087024</td>\n",
              "    </tr>\n",
              "    <tr>\n",
              "      <th>Catholic</th>\n",
              "      <td>0.719701</td>\n",
              "      <td>0.154242</td>\n",
              "      <td>-0.658483</td>\n",
              "      <td>-0.652107</td>\n",
              "      <td>1.000000</td>\n",
              "      <td>-0.252353</td>\n",
              "      <td>0.441381</td>\n",
              "    </tr>\n",
              "    <tr>\n",
              "      <th>Mormon</th>\n",
              "      <td>-0.154383</td>\n",
              "      <td>0.073954</td>\n",
              "      <td>-0.448489</td>\n",
              "      <td>-0.128055</td>\n",
              "      <td>-0.252353</td>\n",
              "      <td>1.000000</td>\n",
              "      <td>-0.165869</td>\n",
              "    </tr>\n",
              "    <tr>\n",
              "      <th>Jewish</th>\n",
              "      <td>0.502930</td>\n",
              "      <td>0.246451</td>\n",
              "      <td>-0.507319</td>\n",
              "      <td>-0.087024</td>\n",
              "      <td>0.441381</td>\n",
              "      <td>-0.165869</td>\n",
              "      <td>1.000000</td>\n",
              "    </tr>\n",
              "  </tbody>\n",
              "</table>\n",
              "</div>"
            ],
            "text/plain": [
              "                  Vaccinated      None  ...    Mormon    Jewish\n",
              "Vaccinated          1.000000  0.422919  ... -0.154383  0.502930\n",
              "None                0.422919  1.000000  ...  0.073954  0.246451\n",
              "Protestant         -0.601104 -0.488325  ... -0.448489 -0.507319\n",
              "Other\\nChristian   -0.536015 -0.052374  ... -0.128055 -0.087024\n",
              "Catholic            0.719701  0.154242  ... -0.252353  0.441381\n",
              "Mormon             -0.154383  0.073954  ...  1.000000 -0.165869\n",
              "Jewish              0.502930  0.246451  ... -0.165869  1.000000\n",
              "\n",
              "[7 rows x 7 columns]"
            ]
          },
          "metadata": {
            "tags": []
          },
          "execution_count": 4
        }
      ]
    },
    {
      "cell_type": "code",
      "metadata": {
        "colab": {
          "base_uri": "https://localhost:8080/",
          "height": 355
        },
        "id": "2uOnOzqkS72E",
        "outputId": "4ad03b1a-54dc-4d8b-ae89-580eed5063ed"
      },
      "source": [
        "import seaborn as sns\n",
        "import matplotlib.pyplot as plt\n",
        "\n",
        "plt.figure()\n",
        "plt.suptitle(\"Religion Vaccine\", color='m')\n",
        "sns.set(font_scale=0.8)\n",
        "\n",
        "ax = sns.heatmap(df.corr())\n",
        "#ax.set(xlabel='x label', ylabel='y label')\n",
        "\n",
        "plt.show()"
      ],
      "execution_count": 7,
      "outputs": [
        {
          "output_type": "display_data",
          "data": {
            "image/png": "[encoded data removed]",
            "text/plain": [
              "<Figure size 432x288 with 2 Axes>"
            ]
          },
          "metadata": {
            "tags": []
          }
        }
      ]
    },
    {
      "cell_type": "code",
      "metadata": {
        "id": "yh7CqC7XTcvQ"
      },
      "source": [
        ""
      ],
      "execution_count": null,
      "outputs": []
    }
  ]
}